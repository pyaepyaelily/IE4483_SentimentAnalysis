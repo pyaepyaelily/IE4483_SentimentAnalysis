{
  "cells": [
    {
      "cell_type": "code",
      "execution_count": null,
      "metadata": {
        "colab": {
          "base_uri": "https://localhost:8080/"
        },
        "id": "JI9_xEfdmV6q",
        "outputId": "70eab636-4b5d-43bd-8aa4-b9a20912308c"
      },
      "outputs": [
        {
          "output_type": "stream",
          "name": "stdout",
          "text": [
            "Requirement already satisfied: nltk in /usr/local/lib/python3.10/dist-packages (3.8.1)\n",
            "Requirement already satisfied: click in /usr/local/lib/python3.10/dist-packages (from nltk) (8.1.7)\n",
            "Requirement already satisfied: joblib in /usr/local/lib/python3.10/dist-packages (from nltk) (1.3.2)\n",
            "Requirement already satisfied: regex>=2021.8.3 in /usr/local/lib/python3.10/dist-packages (from nltk) (2023.6.3)\n",
            "Requirement already satisfied: tqdm in /usr/local/lib/python3.10/dist-packages (from nltk) (4.66.1)\n"
          ]
        }
      ],
      "source": [
        "!pip install nltk"
      ]
    },
    {
      "cell_type": "code",
      "execution_count": null,
      "metadata": {
        "colab": {
          "base_uri": "https://localhost:8080/"
        },
        "id": "RtSJ9Rie30oO",
        "outputId": "6b390192-cb7d-459e-c826-1f6cf9c889d7"
      },
      "outputs": [
        {
          "output_type": "stream",
          "name": "stderr",
          "text": [
            "[nltk_data] Downloading package stopwords to /root/nltk_data...\n",
            "[nltk_data]   Unzipping corpora/stopwords.zip.\n",
            "[nltk_data] Downloading package punkt to /root/nltk_data...\n",
            "[nltk_data]   Unzipping tokenizers/punkt.zip.\n"
          ]
        },
        {
          "output_type": "execute_result",
          "data": {
            "text/plain": [
              "True"
            ]
          },
          "metadata": {},
          "execution_count": 2
        }
      ],
      "source": [
        "import json\n",
        "import pandas as pd\n",
        "import string\n",
        "import nltk\n",
        "from nltk.corpus import stopwords\n",
        "from nltk.tokenize import word_tokenize\n",
        "\n",
        "nltk.download('stopwords')\n",
        "nltk.download('punkt')"
      ]
    },
    {
      "cell_type": "markdown",
      "metadata": {
        "id": "BGlS0uHO6qgX"
      },
      "source": [
        "# Reading in data"
      ]
    },
    {
      "cell_type": "code",
      "execution_count": null,
      "metadata": {
        "id": "1MvQRI47lrWb"
      },
      "outputs": [],
      "source": [
        "from google.colab import drive\n",
        "drive.mount('/content/drive')"
      ]
    },
    {
      "cell_type": "code",
      "execution_count": null,
      "metadata": {
        "id": "tev1V8ec49xC"
      },
      "outputs": [],
      "source": [
        "file_path_train = \"/content/drive/MyDrive/Colab Notebooks/IE4483/data/train.json\"\n",
        "\n",
        "\n",
        "with open(file_path_train, 'r', encoding='utf-8') as file:\n",
        "    train_data = json.load(file)"
      ]
    },
    {
      "cell_type": "code",
      "execution_count": null,
      "metadata": {
        "id": "qAnKZS4rn6Pw"
      },
      "outputs": [],
      "source": []
    },
    {
      "cell_type": "code",
      "execution_count": null,
      "metadata": {
        "id": "lJe2OeOpTgHC"
      },
      "outputs": [],
      "source": [
        "file_path_test = \"/content/drive/MyDrive/Colab Notebooks/IE4483/data/test.json\"\n",
        "\n",
        "\n",
        "\n",
        "with open(file_path_test, 'r', encoding='utf-8') as file:\n",
        "    test_data = json.load(file)"
      ]
    },
    {
      "cell_type": "code",
      "execution_count": null,
      "metadata": {
        "id": "jVNz3Po-6Htt"
      },
      "outputs": [],
      "source": [
        "# 0: negative sentiment\n",
        "# 1: positive sentiment\n",
        "\n",
        "train_df = pd.DataFrame(train_data)\n",
        "test_df = pd.DataFrame(test_data)"
      ]
    },
    {
      "cell_type": "code",
      "execution_count": null,
      "metadata": {
        "colab": {
          "base_uri": "https://localhost:8080/",
          "height": 206
        },
        "id": "G2lVgQ51Hki6",
        "outputId": "bf8e9e54-3446-48a6-96fd-661c66e4b594"
      },
      "outputs": [
        {
          "output_type": "execute_result",
          "data": {
            "text/plain": [
              "                                             reviews  sentiments\n",
              "0  I bought this belt for my daughter in-law for ...           1\n",
              "1  The size was perfect and so was the color.  It...           1\n",
              "2  Fits and feels good, esp. for doing a swim rac...           1\n",
              "3  These socks are absolutely the best. I take pi...           1\n",
              "4  Thank you so much for the speedy delivery they...           1"
            ],
            "text/html": [
              "\n",
              "  <div id=\"df-46c9b7a2-98c6-40f7-93e7-5930529734d8\" class=\"colab-df-container\">\n",
              "    <div>\n",
              "<style scoped>\n",
              "    .dataframe tbody tr th:only-of-type {\n",
              "        vertical-align: middle;\n",
              "    }\n",
              "\n",
              "    .dataframe tbody tr th {\n",
              "        vertical-align: top;\n",
              "    }\n",
              "\n",
              "    .dataframe thead th {\n",
              "        text-align: right;\n",
              "    }\n",
              "</style>\n",
              "<table border=\"1\" class=\"dataframe\">\n",
              "  <thead>\n",
              "    <tr style=\"text-align: right;\">\n",
              "      <th></th>\n",
              "      <th>reviews</th>\n",
              "      <th>sentiments</th>\n",
              "    </tr>\n",
              "  </thead>\n",
              "  <tbody>\n",
              "    <tr>\n",
              "      <th>0</th>\n",
              "      <td>I bought this belt for my daughter in-law for ...</td>\n",
              "      <td>1</td>\n",
              "    </tr>\n",
              "    <tr>\n",
              "      <th>1</th>\n",
              "      <td>The size was perfect and so was the color.  It...</td>\n",
              "      <td>1</td>\n",
              "    </tr>\n",
              "    <tr>\n",
              "      <th>2</th>\n",
              "      <td>Fits and feels good, esp. for doing a swim rac...</td>\n",
              "      <td>1</td>\n",
              "    </tr>\n",
              "    <tr>\n",
              "      <th>3</th>\n",
              "      <td>These socks are absolutely the best. I take pi...</td>\n",
              "      <td>1</td>\n",
              "    </tr>\n",
              "    <tr>\n",
              "      <th>4</th>\n",
              "      <td>Thank you so much for the speedy delivery they...</td>\n",
              "      <td>1</td>\n",
              "    </tr>\n",
              "  </tbody>\n",
              "</table>\n",
              "</div>\n",
              "    <div class=\"colab-df-buttons\">\n",
              "\n",
              "  <div class=\"colab-df-container\">\n",
              "    <button class=\"colab-df-convert\" onclick=\"convertToInteractive('df-46c9b7a2-98c6-40f7-93e7-5930529734d8')\"\n",
              "            title=\"Convert this dataframe to an interactive table.\"\n",
              "            style=\"display:none;\">\n",
              "\n",
              "  <svg xmlns=\"http://www.w3.org/2000/svg\" height=\"24px\" viewBox=\"0 -960 960 960\">\n",
              "    <path d=\"M120-120v-720h720v720H120Zm60-500h600v-160H180v160Zm220 220h160v-160H400v160Zm0 220h160v-160H400v160ZM180-400h160v-160H180v160Zm440 0h160v-160H620v160ZM180-180h160v-160H180v160Zm440 0h160v-160H620v160Z\"/>\n",
              "  </svg>\n",
              "    </button>\n",
              "\n",
              "  <style>\n",
              "    .colab-df-container {\n",
              "      display:flex;\n",
              "      gap: 12px;\n",
              "    }\n",
              "\n",
              "    .colab-df-convert {\n",
              "      background-color: #E8F0FE;\n",
              "      border: none;\n",
              "      border-radius: 50%;\n",
              "      cursor: pointer;\n",
              "      display: none;\n",
              "      fill: #1967D2;\n",
              "      height: 32px;\n",
              "      padding: 0 0 0 0;\n",
              "      width: 32px;\n",
              "    }\n",
              "\n",
              "    .colab-df-convert:hover {\n",
              "      background-color: #E2EBFA;\n",
              "      box-shadow: 0px 1px 2px rgba(60, 64, 67, 0.3), 0px 1px 3px 1px rgba(60, 64, 67, 0.15);\n",
              "      fill: #174EA6;\n",
              "    }\n",
              "\n",
              "    .colab-df-buttons div {\n",
              "      margin-bottom: 4px;\n",
              "    }\n",
              "\n",
              "    [theme=dark] .colab-df-convert {\n",
              "      background-color: #3B4455;\n",
              "      fill: #D2E3FC;\n",
              "    }\n",
              "\n",
              "    [theme=dark] .colab-df-convert:hover {\n",
              "      background-color: #434B5C;\n",
              "      box-shadow: 0px 1px 3px 1px rgba(0, 0, 0, 0.15);\n",
              "      filter: drop-shadow(0px 1px 2px rgba(0, 0, 0, 0.3));\n",
              "      fill: #FFFFFF;\n",
              "    }\n",
              "  </style>\n",
              "\n",
              "    <script>\n",
              "      const buttonEl =\n",
              "        document.querySelector('#df-46c9b7a2-98c6-40f7-93e7-5930529734d8 button.colab-df-convert');\n",
              "      buttonEl.style.display =\n",
              "        google.colab.kernel.accessAllowed ? 'block' : 'none';\n",
              "\n",
              "      async function convertToInteractive(key) {\n",
              "        const element = document.querySelector('#df-46c9b7a2-98c6-40f7-93e7-5930529734d8');\n",
              "        const dataTable =\n",
              "          await google.colab.kernel.invokeFunction('convertToInteractive',\n",
              "                                                    [key], {});\n",
              "        if (!dataTable) return;\n",
              "\n",
              "        const docLinkHtml = 'Like what you see? Visit the ' +\n",
              "          '<a target=\"_blank\" href=https://colab.research.google.com/notebooks/data_table.ipynb>data table notebook</a>'\n",
              "          + ' to learn more about interactive tables.';\n",
              "        element.innerHTML = '';\n",
              "        dataTable['output_type'] = 'display_data';\n",
              "        await google.colab.output.renderOutput(dataTable, element);\n",
              "        const docLink = document.createElement('div');\n",
              "        docLink.innerHTML = docLinkHtml;\n",
              "        element.appendChild(docLink);\n",
              "      }\n",
              "    </script>\n",
              "  </div>\n",
              "\n",
              "\n",
              "<div id=\"df-417d8fa3-86c4-45b4-82d2-a628eaf7b6a0\">\n",
              "  <button class=\"colab-df-quickchart\" onclick=\"quickchart('df-417d8fa3-86c4-45b4-82d2-a628eaf7b6a0')\"\n",
              "            title=\"Suggest charts\"\n",
              "            style=\"display:none;\">\n",
              "\n",
              "<svg xmlns=\"http://www.w3.org/2000/svg\" height=\"24px\"viewBox=\"0 0 24 24\"\n",
              "     width=\"24px\">\n",
              "    <g>\n",
              "        <path d=\"M19 3H5c-1.1 0-2 .9-2 2v14c0 1.1.9 2 2 2h14c1.1 0 2-.9 2-2V5c0-1.1-.9-2-2-2zM9 17H7v-7h2v7zm4 0h-2V7h2v10zm4 0h-2v-4h2v4z\"/>\n",
              "    </g>\n",
              "</svg>\n",
              "  </button>\n",
              "\n",
              "<style>\n",
              "  .colab-df-quickchart {\n",
              "      --bg-color: #E8F0FE;\n",
              "      --fill-color: #1967D2;\n",
              "      --hover-bg-color: #E2EBFA;\n",
              "      --hover-fill-color: #174EA6;\n",
              "      --disabled-fill-color: #AAA;\n",
              "      --disabled-bg-color: #DDD;\n",
              "  }\n",
              "\n",
              "  [theme=dark] .colab-df-quickchart {\n",
              "      --bg-color: #3B4455;\n",
              "      --fill-color: #D2E3FC;\n",
              "      --hover-bg-color: #434B5C;\n",
              "      --hover-fill-color: #FFFFFF;\n",
              "      --disabled-bg-color: #3B4455;\n",
              "      --disabled-fill-color: #666;\n",
              "  }\n",
              "\n",
              "  .colab-df-quickchart {\n",
              "    background-color: var(--bg-color);\n",
              "    border: none;\n",
              "    border-radius: 50%;\n",
              "    cursor: pointer;\n",
              "    display: none;\n",
              "    fill: var(--fill-color);\n",
              "    height: 32px;\n",
              "    padding: 0;\n",
              "    width: 32px;\n",
              "  }\n",
              "\n",
              "  .colab-df-quickchart:hover {\n",
              "    background-color: var(--hover-bg-color);\n",
              "    box-shadow: 0 1px 2px rgba(60, 64, 67, 0.3), 0 1px 3px 1px rgba(60, 64, 67, 0.15);\n",
              "    fill: var(--button-hover-fill-color);\n",
              "  }\n",
              "\n",
              "  .colab-df-quickchart-complete:disabled,\n",
              "  .colab-df-quickchart-complete:disabled:hover {\n",
              "    background-color: var(--disabled-bg-color);\n",
              "    fill: var(--disabled-fill-color);\n",
              "    box-shadow: none;\n",
              "  }\n",
              "\n",
              "  .colab-df-spinner {\n",
              "    border: 2px solid var(--fill-color);\n",
              "    border-color: transparent;\n",
              "    border-bottom-color: var(--fill-color);\n",
              "    animation:\n",
              "      spin 1s steps(1) infinite;\n",
              "  }\n",
              "\n",
              "  @keyframes spin {\n",
              "    0% {\n",
              "      border-color: transparent;\n",
              "      border-bottom-color: var(--fill-color);\n",
              "      border-left-color: var(--fill-color);\n",
              "    }\n",
              "    20% {\n",
              "      border-color: transparent;\n",
              "      border-left-color: var(--fill-color);\n",
              "      border-top-color: var(--fill-color);\n",
              "    }\n",
              "    30% {\n",
              "      border-color: transparent;\n",
              "      border-left-color: var(--fill-color);\n",
              "      border-top-color: var(--fill-color);\n",
              "      border-right-color: var(--fill-color);\n",
              "    }\n",
              "    40% {\n",
              "      border-color: transparent;\n",
              "      border-right-color: var(--fill-color);\n",
              "      border-top-color: var(--fill-color);\n",
              "    }\n",
              "    60% {\n",
              "      border-color: transparent;\n",
              "      border-right-color: var(--fill-color);\n",
              "    }\n",
              "    80% {\n",
              "      border-color: transparent;\n",
              "      border-right-color: var(--fill-color);\n",
              "      border-bottom-color: var(--fill-color);\n",
              "    }\n",
              "    90% {\n",
              "      border-color: transparent;\n",
              "      border-bottom-color: var(--fill-color);\n",
              "    }\n",
              "  }\n",
              "</style>\n",
              "\n",
              "  <script>\n",
              "    async function quickchart(key) {\n",
              "      const quickchartButtonEl =\n",
              "        document.querySelector('#' + key + ' button');\n",
              "      quickchartButtonEl.disabled = true;  // To prevent multiple clicks.\n",
              "      quickchartButtonEl.classList.add('colab-df-spinner');\n",
              "      try {\n",
              "        const charts = await google.colab.kernel.invokeFunction(\n",
              "            'suggestCharts', [key], {});\n",
              "      } catch (error) {\n",
              "        console.error('Error during call to suggestCharts:', error);\n",
              "      }\n",
              "      quickchartButtonEl.classList.remove('colab-df-spinner');\n",
              "      quickchartButtonEl.classList.add('colab-df-quickchart-complete');\n",
              "    }\n",
              "    (() => {\n",
              "      let quickchartButtonEl =\n",
              "        document.querySelector('#df-417d8fa3-86c4-45b4-82d2-a628eaf7b6a0 button');\n",
              "      quickchartButtonEl.style.display =\n",
              "        google.colab.kernel.accessAllowed ? 'block' : 'none';\n",
              "    })();\n",
              "  </script>\n",
              "</div>\n",
              "    </div>\n",
              "  </div>\n"
            ]
          },
          "metadata": {},
          "execution_count": 7
        }
      ],
      "source": [
        "train_df.head()"
      ]
    },
    {
      "cell_type": "markdown",
      "metadata": {
        "id": "rtO2gpPp7DEW"
      },
      "source": [
        "# Data processing"
      ]
    },
    {
      "cell_type": "code",
      "execution_count": null,
      "metadata": {
        "id": "5eIvtpykAyKY"
      },
      "outputs": [],
      "source": [
        "#Lowercasing\n",
        "train_df[\"reviews\"] = train_df[\"reviews\"].astype(str).str.lower()\n",
        "\n",
        "test_df[\"reviews\"] = test_df[\"reviews\"].astype(str).str.lower()\n"
      ]
    },
    {
      "cell_type": "code",
      "execution_count": null,
      "metadata": {
        "id": "UNAYo_bdTNf3"
      },
      "outputs": [],
      "source": [
        "#Function to remove punctuation\n",
        "def remove_punc(text):\n",
        "    for punc in string.punctuation:\n",
        "        text = text.replace(punc, '')\n",
        "    return text\n",
        "\n",
        "\n",
        "train_df[\"reviews\"] = train_df[\"reviews\"].apply(remove_punc)\n",
        "\n",
        "test_df[\"reviews\"] = test_df[\"reviews\"].apply(remove_punc)\n"
      ]
    },
    {
      "cell_type": "code",
      "execution_count": null,
      "metadata": {
        "id": "4R3dR6jFlIvH"
      },
      "outputs": [],
      "source": [
        "# Remove special characters and numbers from the \"reviews\" column\n",
        "train_df['reviews'] = train_df['reviews'].str.replace(r'[^A-Za-z\\s]', '', regex=True)\n",
        "\n",
        "test_df['reviews'] = test_df['reviews'].str.replace(r'[^A-Za-z\\s]', '', regex=True)"
      ]
    },
    {
      "cell_type": "code",
      "execution_count": null,
      "metadata": {
        "id": "HZLkH95amNso"
      },
      "outputs": [],
      "source": [
        "# Function to remove stopwords\n",
        "def remove_stopwords(text):\n",
        "    words = text.split()\n",
        "    filtered_words = [word for word in words if word.lower() not in stopwords.words('english')]\n",
        "    return ' '.join(filtered_words)\n",
        "\n",
        "# Apply the remove_stopwords function to the 'reviews' column\n",
        "train_df['reviews'] = train_df['reviews'].apply(remove_stopwords)\n",
        "\n",
        "test_df['reviews'] = test_df['reviews'].apply(remove_stopwords)"
      ]
    },
    {
      "cell_type": "code",
      "execution_count": null,
      "metadata": {
        "colab": {
          "base_uri": "https://localhost:8080/"
        },
        "id": "QNUct3kNxKvm",
        "outputId": "528e9557-991d-41a3-91d4-a361b433f542"
      },
      "outputs": [
        {
          "output_type": "stream",
          "name": "stdout",
          "text": [
            "0       False\n",
            "1       False\n",
            "2       False\n",
            "3       False\n",
            "4       False\n",
            "        ...  \n",
            "7396    False\n",
            "7397    False\n",
            "7398    False\n",
            "7399    False\n",
            "7400    False\n",
            "Length: 7401, dtype: bool\n"
          ]
        }
      ],
      "source": [
        "findDuplicate = train_df.duplicated()\n",
        "print(findDuplicate)"
      ]
    },
    {
      "cell_type": "code",
      "execution_count": null,
      "metadata": {
        "colab": {
          "base_uri": "https://localhost:8080/"
        },
        "id": "MFu_jaF1Etk2",
        "outputId": "10cdb340-9cd6-4953-cccf-b1d0f4d9c8cd"
      },
      "outputs": [
        {
          "output_type": "stream",
          "name": "stdout",
          "text": [
            "                                                reviews  sentiments\n",
            "0            bought belt daughter inlaw christmas loved           1\n",
            "1               size perfect color looked like web page           1\n",
            "2     fits feels good esp swim race highly recommend...           1\n",
            "3     socks absolutely best take pilates classes hot...           1\n",
            "4     thank much speedy delivery came time rehearsal...           1\n",
            "...                                                 ...         ...\n",
            "7396  bought shirts black medium wear daily basis di...           0\n",
            "7397  first thought scarf might good quality since c...           1\n",
            "7398  picky comes bras want something support comfor...           1\n",
            "7399  jacket wind water resistant waterproof soked f...           0\n",
            "7400  extremely confortable material soft cotton pou...           1\n",
            "\n",
            "[7178 rows x 2 columns]\n",
            "                                                reviews\n",
            "0     bought sleepers sleeper holes arm pit area sle...\n",
            "1     dare say sexiest things ive ever worn oh ive g...\n",
            "2     everything transaction price delivery time qua...\n",
            "3     bad shirt durable matched teams colors perfect...\n",
            "4     truly wrinkle free longer average womans botto...\n",
            "...                                                 ...\n",
            "1845  im glad got solved issues tootight bands wear ...\n",
            "1847  bought longsleeved colored shirts child wear r...\n",
            "1848  really cute sexy make nice valentines day pres...\n",
            "1849  shoers daughter loves long happy happy adidas ...\n",
            "1850  umbrellas handle light rain well leave wet pan...\n",
            "\n",
            "[1829 rows x 1 columns]\n"
          ]
        }
      ],
      "source": [
        "train_df = train_df.drop_duplicates()\n",
        "print(train_df)\n",
        "\n",
        "test_df = test_df.drop_duplicates()\n",
        "print(test_df)"
      ]
    },
    {
      "cell_type": "code",
      "execution_count": null,
      "metadata": {
        "id": "KRtBTPit6zNZ"
      },
      "outputs": [],
      "source": [
        "#Save df as csv\n",
        "train_df.to_csv('processed_train_data.csv', index=False)\n",
        "test_df.to_csv('processed_test_data.csv', index=False)"
      ]
    },
    {
      "cell_type": "code",
      "execution_count": null,
      "metadata": {
        "colab": {
          "base_uri": "https://localhost:8080/"
        },
        "id": "6i7vUiqSObEy",
        "outputId": "da9469d0-407f-4e51-fcd9-1ad206474827"
      },
      "outputs": [
        {
          "output_type": "stream",
          "name": "stdout",
          "text": [
            "                                                reviews  sentiments\n",
            "0            bought belt daughter inlaw christmas loved           1\n",
            "1               size perfect color looked like web page           1\n",
            "2     fits feels good esp swim race highly recommend...           1\n",
            "3     socks absolutely best take pilates classes hot...           1\n",
            "4     thank much speedy delivery came time rehearsal...           1\n",
            "...                                                 ...         ...\n",
            "7396  bought shirts black medium wear daily basis di...           0\n",
            "7397  first thought scarf might good quality since c...           1\n",
            "7398  picky comes bras want something support comfor...           1\n",
            "7399  jacket wind water resistant waterproof soked f...           0\n",
            "7400  extremely confortable material soft cotton pou...           1\n",
            "\n",
            "[7178 rows x 2 columns]\n"
          ]
        }
      ],
      "source": [
        "print(train_df)"
      ]
    },
    {
      "cell_type": "code",
      "source": [
        "import numpy as np\n",
        "import pandas as pd\n",
        "from sklearn.model_selection import train_test_split\n",
        "from sklearn.metrics import classification_report\n",
        "from keras.preprocessing.text import Tokenizer\n",
        "from keras.preprocessing.sequence import pad_sequences\n",
        "from keras.models import Sequential\n",
        "from keras.layers import Embedding, LSTM, Dense"
      ],
      "metadata": {
        "id": "rYfy4r1o59j7"
      },
      "execution_count": null,
      "outputs": []
    },
    {
      "cell_type": "code",
      "source": [
        "# Putting reviews into the x axis, and sentiments into the y axis\n",
        "x, y = (train_df['reviews'].values, train_df['sentiments'].values)"
      ],
      "metadata": {
        "id": "249RFKol5-Wc"
      },
      "execution_count": null,
      "outputs": []
    },
    {
      "cell_type": "code",
      "source": [
        "# Tokenization + padding of training data\n",
        "tok = Tokenizer(lower=True)\n",
        "tok.fit_on_texts(x)\n",
        "x_sequence = tok.texts_to_sequences(x)\n",
        "x_padding = pad_sequences(x_sequence, maxlen=32, padding='post')\n"
      ],
      "metadata": {
        "id": "nOtzPg_n6Bva"
      },
      "execution_count": null,
      "outputs": []
    },
    {
      "cell_type": "code",
      "source": [
        "# split data into training and validation set\n",
        "x_train, x_val, y_train, y_val = train_test_split(x_padding, y, test_size=0.25, random_state=1)"
      ],
      "metadata": {
        "id": "5nwt0SD06INs"
      },
      "execution_count": null,
      "outputs": []
    },
    {
      "cell_type": "code",
      "source": [
        "# Building RNN model\n",
        "vocabulary_size = len(tok.word_counts.keys()) + 1\n",
        "max_words = 32  # To match the input_length in the Embedding layer\n",
        "embedding_size = 200\n",
        "\n",
        "model = Sequential()\n",
        "model.add(Embedding(vocabulary_size, embedding_size, input_length=max_words))\n",
        "model.add(LSTM(200))\n",
        "model.add(Dense(1, activation='sigmoid'))\n",
        "model.compile(loss='binary_crossentropy', optimizer='adam', metrics=['accuracy'])"
      ],
      "metadata": {
        "id": "WYaiNATK6R1l"
      },
      "execution_count": null,
      "outputs": []
    },
    {
      "cell_type": "code",
      "source": [
        "# Training the model\n",
        "model.fit(x_train, y_train, validation_data=(x_val, y_val), batch_size=32, epochs=3)\n"
      ],
      "metadata": {
        "colab": {
          "base_uri": "https://localhost:8080/"
        },
        "id": "mEPOE28p6x46",
        "outputId": "45701d5b-7c06-4d86-f71c-dff3ceceab91"
      },
      "execution_count": null,
      "outputs": [
        {
          "output_type": "stream",
          "name": "stdout",
          "text": [
            "Epoch 1/3\n",
            "169/169 [==============================] - 30s 162ms/step - loss: 0.3526 - accuracy: 0.8685 - val_loss: 0.2878 - val_accuracy: 0.8652\n",
            "Epoch 2/3\n",
            "169/169 [==============================] - 27s 161ms/step - loss: 0.1598 - accuracy: 0.9419 - val_loss: 0.2744 - val_accuracy: 0.8975\n",
            "Epoch 3/3\n",
            "169/169 [==============================] - 26s 153ms/step - loss: 0.0731 - accuracy: 0.9792 - val_loss: 0.4268 - val_accuracy: 0.8869\n"
          ]
        },
        {
          "output_type": "execute_result",
          "data": {
            "text/plain": [
              "<keras.src.callbacks.History at 0x7b9fbe2efe50>"
            ]
          },
          "metadata": {},
          "execution_count": 21
        }
      ]
    },
    {
      "cell_type": "code",
      "source": [
        "# Evaluation and Classification Report\n",
        "accuracy = model.evaluate(x_val, y_val, verbose=1)\n",
        "print(\"Test accuracy is: {:.2%}\".format(accuracy[1]))\n"
      ],
      "metadata": {
        "colab": {
          "base_uri": "https://localhost:8080/"
        },
        "id": "PvDHB5ec6zDH",
        "outputId": "fdb1ed4f-d3ca-45ea-d366-82a16142898b"
      },
      "execution_count": null,
      "outputs": [
        {
          "output_type": "stream",
          "name": "stdout",
          "text": [
            "57/57 [==============================] - 2s 28ms/step - loss: 0.4268 - accuracy: 0.8869\n",
            "Test accuracy is: 88.69%\n"
          ]
        }
      ]
    },
    {
      "cell_type": "code",
      "source": [
        "# Tokenization + padding\n",
        "tok = Tokenizer(lower=True)\n",
        "tok.fit_on_texts(test_df['reviews'].values)\n",
        "x_test_sequence = tok.texts_to_sequences(test_df['reviews'].values)\n",
        "x_test_padding = pad_sequences(x_test_sequence, maxlen=32, padding='post')\n",
        "\n",
        "# Make predictions\n",
        "y_test_prediction_probability = model.predict(x_test_padding)\n",
        "y_test_prediction = np.round(y_test_prediction_probability).astype(int)\n"
      ],
      "metadata": {
        "colab": {
          "base_uri": "https://localhost:8080/"
        },
        "id": "zVF7mutW61T8",
        "outputId": "32def73e-1029-4f5f-baaf-9212b8db4f9e"
      },
      "execution_count": null,
      "outputs": [
        {
          "output_type": "stream",
          "name": "stdout",
          "text": [
            "58/58 [==============================] - 2s 29ms/step\n"
          ]
        }
      ]
    },
    {
      "cell_type": "code",
      "source": [
        "# Display the predictions\n",
        "test_df['predicted_sentiment'] = y_test_prediction\n",
        "print(test_df[['reviews', 'predicted_sentiment']])"
      ],
      "metadata": {
        "colab": {
          "base_uri": "https://localhost:8080/"
        },
        "id": "zSMjZL2I667j",
        "outputId": "ccd8ba09-8a56-4efa-ab15-55e29869278e"
      },
      "execution_count": null,
      "outputs": [
        {
          "output_type": "stream",
          "name": "stdout",
          "text": [
            "                                                reviews  predicted_sentiment\n",
            "0     bought sleepers sleeper holes arm pit area sle...                    1\n",
            "1     dare say sexiest things ive ever worn oh ive g...                    1\n",
            "2     everything transaction price delivery time qua...                    1\n",
            "3     bad shirt durable matched teams colors perfect...                    1\n",
            "4     truly wrinkle free longer average womans botto...                    1\n",
            "...                                                 ...                  ...\n",
            "1845  im glad got solved issues tootight bands wear ...                    1\n",
            "1847  bought longsleeved colored shirts child wear r...                    1\n",
            "1848  really cute sexy make nice valentines day pres...                    1\n",
            "1849  shoers daughter loves long happy happy adidas ...                    1\n",
            "1850  umbrellas handle light rain well leave wet pan...                    1\n",
            "\n",
            "[1829 rows x 2 columns]\n"
          ]
        }
      ]
    },
    {
      "cell_type": "code",
      "source": [
        "ground_truth_labels = test_df['predicted_sentiment']\n",
        "predicted_labels = y_test_prediction.astype(int)\n",
        "\n",
        "# Generate classification report\n",
        "class_report = classification_report(ground_truth_labels, predicted_labels, target_names=['0', '1'])\n",
        "\n",
        "# Display the classification report\n",
        "print(class_report)"
      ],
      "metadata": {
        "colab": {
          "base_uri": "https://localhost:8080/"
        },
        "id": "joNzOPouPPaZ",
        "outputId": "ca291b39-a729-4c22-8011-ea217f88b761"
      },
      "execution_count": null,
      "outputs": [
        {
          "output_type": "stream",
          "name": "stdout",
          "text": [
            "              precision    recall  f1-score   support\n",
            "\n",
            "           0       1.00      1.00      1.00       162\n",
            "           1       1.00      1.00      1.00      1667\n",
            "\n",
            "    accuracy                           1.00      1829\n",
            "   macro avg       1.00      1.00      1.00      1829\n",
            "weighted avg       1.00      1.00      1.00      1829\n",
            "\n"
          ]
        }
      ]
    },
    {
      "cell_type": "code",
      "source": [],
      "metadata": {
        "id": "e845xg-_SphG"
      },
      "execution_count": null,
      "outputs": []
    }
  ],
  "metadata": {
    "colab": {
      "provenance": []
    },
    "kernelspec": {
      "display_name": "Python 3",
      "name": "python3"
    },
    "language_info": {
      "name": "python"
    }
  },
  "nbformat": 4,
  "nbformat_minor": 0
}